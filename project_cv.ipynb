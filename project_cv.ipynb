{
  "nbformat": 4,
  "nbformat_minor": 0,
  "metadata": {
    "colab": {
      "provenance": [],
      "gpuType": "T4",
      "mount_file_id": "1CYeG0_CcTe_EeHP3-Ge6OGEkm1vcxFGh",
      "authorship_tag": "ABX9TyN8BcVpQzVf+9R6toB9O/oP",
      "include_colab_link": true
    },
    "kernelspec": {
      "name": "python3",
      "display_name": "Python 3"
    },
    "language_info": {
      "name": "python"
    },
    "accelerator": "GPU"
  },
  "cells": [
    {
      "cell_type": "markdown",
      "metadata": {
        "id": "view-in-github",
        "colab_type": "text"
      },
      "source": [
        "<a href=\"https://colab.research.google.com/github/EngrFatimaKhawaja/Cv_project/blob/main/project_cv.ipynb\" target=\"_parent\"><img src=\"https://colab.research.google.com/assets/colab-badge.svg\" alt=\"Open In Colab\"/></a>"
      ]
    },
    {
      "cell_type": "markdown",
      "source": [
        "# **Install Libraries**"
      ],
      "metadata": {
        "id": "li1EuGyPUmZF"
      }
    },
    {
      "cell_type": "code",
      "source": [
        "!git clone https://github.com/EngrFatimaKhawaja/Cv_project.git"
      ],
      "metadata": {
        "colab": {
          "base_uri": "https://localhost:8080/"
        },
        "id": "PJa7RgZ6MRiS",
        "outputId": "287e96ef-8ce6-4f17-96e7-cf12cfd51d81"
      },
      "execution_count": 2,
      "outputs": [
        {
          "output_type": "stream",
          "name": "stdout",
          "text": [
            "Cloning into 'Cv_project'...\n",
            "remote: Enumerating objects: 3, done.\u001b[K\n",
            "remote: Counting objects:  33% (1/3)\u001b[K\rremote: Counting objects:  66% (2/3)\u001b[K\rremote: Counting objects: 100% (3/3)\u001b[K\rremote: Counting objects: 100% (3/3), done.\u001b[K\n",
            "remote: Total 3 (delta 0), reused 0 (delta 0), pack-reused 0\u001b[K\n",
            "Receiving objects:  33% (1/3)\rReceiving objects:  66% (2/3)\rReceiving objects: 100% (3/3)\rReceiving objects: 100% (3/3), done.\n"
          ]
        }
      ]
    },
    {
      "cell_type": "code",
      "execution_count": 22,
      "metadata": {
        "colab": {
          "base_uri": "https://localhost:8080/",
          "height": 738
        },
        "id": "9bQBiEkuyfBY",
        "outputId": "6506c28b-b7cf-46ad-c31f-1c8111db059b"
      },
      "outputs": [
        {
          "output_type": "stream",
          "name": "stdout",
          "text": [
            "Found existing installation: librosa 0.10.1\n",
            "Uninstalling librosa-0.10.1:\n",
            "  Successfully uninstalled librosa-0.10.1\n",
            "\u001b[33mWARNING: Skipping resampy as it is not installed.\u001b[0m\u001b[33m\n",
            "\u001b[0mCollecting librosa\n",
            "  Downloading librosa-0.10.1-py3-none-any.whl (253 kB)\n",
            "\u001b[2K     \u001b[90m━━━━━━━━━━━━━━━━━━━━━━━━━━━━━━━━━━━━━━━━\u001b[0m \u001b[32m253.7/253.7 kB\u001b[0m \u001b[31m2.3 MB/s\u001b[0m eta \u001b[36m0:00:00\u001b[0m\n",
            "\u001b[?25hCollecting resampy\n",
            "  Downloading resampy-0.4.3-py3-none-any.whl (3.1 MB)\n",
            "\u001b[2K     \u001b[90m━━━━━━━━━━━━━━━━━━━━━━━━━━━━━━━━━━━━━━━━\u001b[0m \u001b[32m3.1/3.1 MB\u001b[0m \u001b[31m21.4 MB/s\u001b[0m eta \u001b[36m0:00:00\u001b[0m\n",
            "\u001b[?25hRequirement already satisfied: audioread>=2.1.9 in /usr/local/lib/python3.10/dist-packages (from librosa) (3.0.1)\n",
            "Requirement already satisfied: numpy!=1.22.0,!=1.22.1,!=1.22.2,>=1.20.3 in /usr/local/lib/python3.10/dist-packages (from librosa) (1.25.2)\n",
            "Requirement already satisfied: scipy>=1.2.0 in /usr/local/lib/python3.10/dist-packages (from librosa) (1.11.4)\n",
            "Requirement already satisfied: scikit-learn>=0.20.0 in /usr/local/lib/python3.10/dist-packages (from librosa) (1.2.2)\n",
            "Requirement already satisfied: joblib>=0.14 in /usr/local/lib/python3.10/dist-packages (from librosa) (1.3.2)\n",
            "Requirement already satisfied: decorator>=4.3.0 in /usr/local/lib/python3.10/dist-packages (from librosa) (4.4.2)\n",
            "Requirement already satisfied: numba>=0.51.0 in /usr/local/lib/python3.10/dist-packages (from librosa) (0.58.1)\n",
            "Requirement already satisfied: soundfile>=0.12.1 in /usr/local/lib/python3.10/dist-packages (from librosa) (0.12.1)\n",
            "Requirement already satisfied: pooch>=1.0 in /usr/local/lib/python3.10/dist-packages (from librosa) (1.8.1)\n",
            "Requirement already satisfied: soxr>=0.3.2 in /usr/local/lib/python3.10/dist-packages (from librosa) (0.3.7)\n",
            "Requirement already satisfied: typing-extensions>=4.1.1 in /usr/local/lib/python3.10/dist-packages (from librosa) (4.10.0)\n",
            "Requirement already satisfied: lazy-loader>=0.1 in /usr/local/lib/python3.10/dist-packages (from librosa) (0.3)\n",
            "Requirement already satisfied: msgpack>=1.0 in /usr/local/lib/python3.10/dist-packages (from librosa) (1.0.8)\n",
            "Requirement already satisfied: llvmlite<0.42,>=0.41.0dev0 in /usr/local/lib/python3.10/dist-packages (from numba>=0.51.0->librosa) (0.41.1)\n",
            "Requirement already satisfied: platformdirs>=2.5.0 in /usr/local/lib/python3.10/dist-packages (from pooch>=1.0->librosa) (4.2.0)\n",
            "Requirement already satisfied: packaging>=20.0 in /usr/local/lib/python3.10/dist-packages (from pooch>=1.0->librosa) (24.0)\n",
            "Requirement already satisfied: requests>=2.19.0 in /usr/local/lib/python3.10/dist-packages (from pooch>=1.0->librosa) (2.31.0)\n",
            "Requirement already satisfied: threadpoolctl>=2.0.0 in /usr/local/lib/python3.10/dist-packages (from scikit-learn>=0.20.0->librosa) (3.3.0)\n",
            "Requirement already satisfied: cffi>=1.0 in /usr/local/lib/python3.10/dist-packages (from soundfile>=0.12.1->librosa) (1.16.0)\n",
            "Requirement already satisfied: pycparser in /usr/local/lib/python3.10/dist-packages (from cffi>=1.0->soundfile>=0.12.1->librosa) (2.21)\n",
            "Requirement already satisfied: charset-normalizer<4,>=2 in /usr/local/lib/python3.10/dist-packages (from requests>=2.19.0->pooch>=1.0->librosa) (3.3.2)\n",
            "Requirement already satisfied: idna<4,>=2.5 in /usr/local/lib/python3.10/dist-packages (from requests>=2.19.0->pooch>=1.0->librosa) (3.6)\n",
            "Requirement already satisfied: urllib3<3,>=1.21.1 in /usr/local/lib/python3.10/dist-packages (from requests>=2.19.0->pooch>=1.0->librosa) (2.0.7)\n",
            "Requirement already satisfied: certifi>=2017.4.17 in /usr/local/lib/python3.10/dist-packages (from requests>=2.19.0->pooch>=1.0->librosa) (2024.2.2)\n",
            "Installing collected packages: resampy, librosa\n",
            "Successfully installed librosa-0.10.1 resampy-0.4.3\n"
          ]
        },
        {
          "output_type": "display_data",
          "data": {
            "application/vnd.colab-display-data+json": {
              "pip_warning": {
                "packages": [
                  "librosa"
                ]
              },
              "id": "038f94cd50c74de6b5e7801dde1ca21a"
            }
          },
          "metadata": {}
        }
      ],
      "source": [
        "!pip uninstall -y librosa resampy\n",
        "!pip install librosa resampy\n",
        "\n"
      ]
    },
    {
      "cell_type": "code",
      "source": [
        "import numpy as np\n",
        "import tensorflow as tf\n",
        "from tensorflow.keras import layers, models\n",
        "from sklearn.model_selection import train_test_split\n",
        "from sklearn.preprocessing import LabelEncoder\n",
        "import librosa\n",
        "import os"
      ],
      "metadata": {
        "id": "L09jptQRTcAu"
      },
      "execution_count": 1,
      "outputs": []
    },
    {
      "cell_type": "code",
      "source": [],
      "metadata": {
        "id": "Mc4VHfm7ZhF2"
      },
      "execution_count": 8,
      "outputs": []
    },
    {
      "cell_type": "markdown",
      "source": [
        "# **Extracting the feactures**"
      ],
      "metadata": {
        "id": "pqoD3EiCUzMO"
      }
    },
    {
      "cell_type": "code",
      "source": [
        "# Function to extract features from audio files\n",
        "# Load the dataset\n",
        "def load_data(test_size, chunk_duration, path,path_samples):\n",
        "    x, y = [], []\n",
        "    for file in os.listdir(path):\n",
        "        # Extract features from the audio file\n",
        "        #features = extract_features(os.path.join(path, file))\n",
        "       # x.append(features)\n",
        "        # Load audio file\n",
        "        audio, sample_rate = librosa.load(path_samples + file, res_type='kaiser_fast')\n",
        "\n",
        "        # Calculate number of chunks\n",
        "        num_chunks = int(np.ceil(len(audio) / (sample_rate * chunk_duration)))\n",
        "\n",
        "        # Extract features from each chunk\n",
        "        for i in range(num_chunks):\n",
        "            start = int(i * sample_rate * chunk_duration)\n",
        "            end = min(len(audio), int((i + 1) * sample_rate * chunk_duration))\n",
        "            chunk_audio = audio[start:end]\n",
        "\n",
        "            # Extract features from audio chunk\n",
        "            feature = extract_features_from_audio(chunk_audio, sample_rate)\n",
        "            x.append(feature)\n",
        "\n",
        "            # Extract class label from the file name\n",
        "            class_label = file.split('(')[0]  # Assuming the class label is before the first '-'\n",
        "            y.append(class_label)\n",
        "\n",
        "    # Encode the labels\n",
        "    encoder = LabelEncoder()\n",
        "    y = encoder.fit_transform(y)\n",
        "    return train_test_split(np.array(x), y, test_size=test_size, random_state=42)\n",
        "\n",
        "def extract_features_from_audio(audio, sample_rate, mfcc=True, chroma=True, mel=True):\n",
        "    result = np.array([])\n",
        "    if mfcc:\n",
        "        mfccs = np.mean(librosa.feature.mfcc(y=audio, sr=sample_rate, n_mfcc=40, n_fft=1024).T, axis=0)  # Adjust n_fft\n",
        "        result = np.hstack((result, mfccs))\n",
        "    if chroma:\n",
        "        stft = np.abs(librosa.stft(audio, n_fft=1024))  # Adjust n_fft\n",
        "        chroma = np.mean(librosa.feature.chroma_stft(S=stft, sr=sample_rate).T, axis=0)\n",
        "        result = np.hstack((result, chroma))\n",
        "    if mel:\n",
        "        mel = np.mean(librosa.feature.melspectrogram(y=audio, sr=sample_rate, n_fft=1024).T, axis=0)  # Adjust n_fft\n",
        "        result = np.hstack((result, mel))\n",
        "    return result\n"
      ],
      "metadata": {
        "id": "u7I66aYtzA-V"
      },
      "execution_count": 44,
      "outputs": []
    },
    {
      "cell_type": "markdown",
      "source": [
        "# **Def Model with dropout**"
      ],
      "metadata": {
        "id": "9LE0UAiRVflo"
      }
    },
    {
      "cell_type": "code",
      "source": [
        "from tensorflow.keras import layers, models\n",
        "\n",
        "from tensorflow.keras.layers import Dropout\n",
        "\n",
        "def create_model_with_dropout(input_shape, num_classes, dropout_rate=0.5):\n",
        "    model = models.Sequential()\n",
        "    model.add(layers.Conv1D(32, 3, activation='relu', input_shape=input_shape))\n",
        "    model.add(layers.MaxPooling1D(2))\n",
        "    model.add(layers.Conv1D(64, 3, activation='relu'))\n",
        "    model.add(layers.MaxPooling1D(2))\n",
        "    model.add(layers.Conv1D(128, 3, activation='relu'))\n",
        "    model.add(layers.MaxPooling1D(2))\n",
        "    model.add(layers.Conv1D(128, 3, activation='relu'))\n",
        "    model.add(layers.MaxPooling1D(2))\n",
        "    model.add(layers.Flatten())\n",
        "    model.add(layers.Dense(512, activation='relu'))\n",
        "    model.add(Dropout(dropout_rate))  # Adding dropout layer\n",
        "    model.add(layers.Dense(num_classes, activation='softmax'))\n",
        "    return model"
      ],
      "metadata": {
        "id": "0DP079RLVaMy"
      },
      "execution_count": 3,
      "outputs": []
    },
    {
      "cell_type": "markdown",
      "source": [
        "# **Split and Load the dataset**"
      ],
      "metadata": {
        "id": "jql6CJF-V96H"
      }
    },
    {
      "cell_type": "code",
      "source": [
        "# Load and split the dataset\n",
        "test_size=0.2\n",
        "chunk_duration=1\n",
        "path='/content/drive/MyDrive/cv_project/samples'\n",
        "path_samples='/content/drive/MyDrive/cv_project/samples/'\n",
        "X_train, X_test, y_train, y_test = load_data(test_size,chunk_duration,path,path_samples)"
      ],
      "metadata": {
        "colab": {
          "base_uri": "https://localhost:8080/"
        },
        "id": "6qG_XNtbVq9a",
        "outputId": "ad3d823a-78a3-4526-8db2-f673ac10dff6"
      },
      "execution_count": 45,
      "outputs": [
        {
          "output_type": "stream",
          "name": "stderr",
          "text": [
            "/usr/local/lib/python3.10/dist-packages/librosa/core/spectrum.py:257: UserWarning: n_fft=1024 is too large for input signal of length=70\n",
            "  warnings.warn(\n"
          ]
        },
        {
          "output_type": "stream",
          "name": "stdout",
          "text": [
            "[2 2 2 2 2 2 2 2 2 2 2 2 2 2 2 2 2 2 2 2 2 2 2 2 2 2 2 2 2 2 2 2 2 2 2 2 3\n",
            " 3 3 3 3 3 3 3 3 3 3 3 3 3 3 3 3 3 3 3 3 3 3 3 3 3 3 3 3 3 3 3 3 3 3 3 3 3\n",
            " 3 3 3 3 3 3 3 2 2 2 2 2 2 2 2 2 2 2 2 2 2 2 2 2 2 2 2 2 2 2 2 2 2 2 2 2 2\n",
            " 2 2 2 2 2 2 2 2 2 2 3 3 3 3 3 3 3 3 3 3 3 3 3 3 2 2 2 2 2 2 2 2 2 2 2 2 2\n",
            " 2 2 2 2 2 2 2 2 2 2 2 2 2 2 2 2 2 2 2 2 2 2 2 2 2 2 2 2 2 2 2 2 2 2 2 2 2\n",
            " 2 2 2 2 2 2 2 2 2 2 2 2 2 3 3 3 3 3 3 3 3 3 3 3 3 3 2 2 2 2 2 2 2 2 2 2 2\n",
            " 2 2 2 2 2 2 2 2 2 2 2 2 2 2 2 2 2 2 2 2 2 2 2 3 3 3 3 3 3 3 3 3 3 3 3 3 3\n",
            " 3 3 3 3 3 3 3 3 3 3 3 3 3 3 3 3 3 3 3 3 3 3 3 3 3 3 3 3 3 3 3 3 3 3 3 3 3\n",
            " 3 3 3 3 3 3 3 3 3 3 3 3 3 3 3 3 3 3 3 3 3 3 3 3 3 3 3 3 3 3 3 3 3 3 3 3 3\n",
            " 3 3 3 3 3 3 3 3 3 3 3 3 3 3 3 3 3 3 3 3 0 0 0 0 0 0 0 0 0 0 0 0 0 0 0 0 0\n",
            " 0 0 0 0 0 0 0 0 0 0 0 0 0 0 0 0 0 0 0 0 0 0 0 0 0 0 0 0 0 0 0 0 0 0 0 0 0\n",
            " 0 0 0 0 0 0 0 0 0 0 0 0 0 0 0 0 0 0 0 0 0 0 0 0 0 0 0 0 0 0 0 0 0 0 0 0 0\n",
            " 0 0 0 0 0 0 0 0 0 0 0 0 0 0 0 0 0 0 0 0 0 0 0 0 0 0 0 0 0 1 1 1 1 1 1 1 1\n",
            " 1 1 1 1 1 1 1 1 1 1 1 1 1 1 1 1 1 1 1 1 1 1 1 1 1 1 1 1 1 1 1 1 1 1 1 1 1\n",
            " 1 1 1 1 1 1 1 1 1 1 1 1 1 1 1 1 1 1 1 1 1 1 1 1 1 1 1 1 1 1 1 1 1 1 1 1 1\n",
            " 1 1 1 1 1 1 1 1 1 1 1 1 1 1 1 1 1 1 1 1 1 1 1 1 1 1 1 1 1 1 1 1 1 1 1 1 1\n",
            " 1 1 1 1 1 1 1 1 1 1 1 1 1 1 1 1 1 1 1 1 1 1 1 1 1 1 1 1 1 1 1 1 1 1]\n"
          ]
        }
      ]
    },
    {
      "cell_type": "code",
      "source": [
        "\n",
        "\n",
        "# Split data into train and validation sets\n",
        "X_train, X_val, y_train, y_val = train_test_split(X_train, y_train, test_size=0.15, random_state=42)\n"
      ],
      "metadata": {
        "id": "u1y2YdSxf6c0"
      },
      "execution_count": 20,
      "outputs": []
    },
    {
      "cell_type": "markdown",
      "source": [
        "# **Update Input_shape(2D)**"
      ],
      "metadata": {
        "id": "lP7JhjTTWNNO"
      }
    },
    {
      "cell_type": "code",
      "source": [
        "# Update input_shape to have 2 dimensions (samples, time_steps)\n",
        "input_shape = (X_train.shape[1], 1)\n",
        "num_classes=4"
      ],
      "metadata": {
        "id": "o3W7f-ezWLi0"
      },
      "execution_count": 21,
      "outputs": []
    },
    {
      "cell_type": "code",
      "source": [
        "input_shape"
      ],
      "metadata": {
        "colab": {
          "base_uri": "https://localhost:8080/"
        },
        "id": "oskIwjSgddrU",
        "outputId": "29c2164e-60ba-4fee-ca4d-e73e1c82be78"
      },
      "execution_count": 22,
      "outputs": [
        {
          "output_type": "execute_result",
          "data": {
            "text/plain": [
              "(180, 1)"
            ]
          },
          "metadata": {},
          "execution_count": 22
        }
      ]
    },
    {
      "cell_type": "markdown",
      "source": [
        "# **Create Model with Dropout**"
      ],
      "metadata": {
        "id": "LMoTWNvZWdyz"
      }
    },
    {
      "cell_type": "code",
      "source": [
        "model_with_dropout = create_model_with_dropout(input_shape=(X_train.shape[1], 1), num_classes=num_classes)"
      ],
      "metadata": {
        "id": "MUTapJnJWc09"
      },
      "execution_count": 23,
      "outputs": []
    },
    {
      "cell_type": "markdown",
      "source": [
        "# **Compile the model**"
      ],
      "metadata": {
        "id": "MmV3AZenWqtp"
      }
    },
    {
      "cell_type": "code",
      "source": [
        "model_with_dropout.compile(optimizer='adam',\n",
        "                           loss='sparse_categorical_crossentropy',\n",
        "                           metrics=['accuracy'])"
      ],
      "metadata": {
        "id": "baoM1fA3WpuF"
      },
      "execution_count": 24,
      "outputs": []
    },
    {
      "cell_type": "markdown",
      "source": [
        "# **Display Model summary**"
      ],
      "metadata": {
        "id": "YhABVRuuW3Zv"
      }
    },
    {
      "cell_type": "code",
      "source": [
        "# Display model summary\n",
        "model_with_dropout.summary()"
      ],
      "metadata": {
        "colab": {
          "base_uri": "https://localhost:8080/"
        },
        "id": "9KP1fHkdW2Ug",
        "outputId": "f2afb405-4b48-45c0-8d84-5e08d9b82c19"
      },
      "execution_count": 25,
      "outputs": [
        {
          "output_type": "stream",
          "name": "stdout",
          "text": [
            "Model: \"sequential_1\"\n",
            "_________________________________________________________________\n",
            " Layer (type)                Output Shape              Param #   \n",
            "=================================================================\n",
            " conv1d_4 (Conv1D)           (None, 178, 32)           128       \n",
            "                                                                 \n",
            " max_pooling1d_4 (MaxPoolin  (None, 89, 32)            0         \n",
            " g1D)                                                            \n",
            "                                                                 \n",
            " conv1d_5 (Conv1D)           (None, 87, 64)            6208      \n",
            "                                                                 \n",
            " max_pooling1d_5 (MaxPoolin  (None, 43, 64)            0         \n",
            " g1D)                                                            \n",
            "                                                                 \n",
            " conv1d_6 (Conv1D)           (None, 41, 128)           24704     \n",
            "                                                                 \n",
            " max_pooling1d_6 (MaxPoolin  (None, 20, 128)           0         \n",
            " g1D)                                                            \n",
            "                                                                 \n",
            " conv1d_7 (Conv1D)           (None, 18, 128)           49280     \n",
            "                                                                 \n",
            " max_pooling1d_7 (MaxPoolin  (None, 9, 128)            0         \n",
            " g1D)                                                            \n",
            "                                                                 \n",
            " flatten_1 (Flatten)         (None, 1152)              0         \n",
            "                                                                 \n",
            " dense_2 (Dense)             (None, 512)               590336    \n",
            "                                                                 \n",
            " dropout_1 (Dropout)         (None, 512)               0         \n",
            "                                                                 \n",
            " dense_3 (Dense)             (None, 4)                 2052      \n",
            "                                                                 \n",
            "=================================================================\n",
            "Total params: 672708 (2.57 MB)\n",
            "Trainable params: 672708 (2.57 MB)\n",
            "Non-trainable params: 0 (0.00 Byte)\n",
            "_________________________________________________________________\n"
          ]
        }
      ]
    },
    {
      "cell_type": "markdown",
      "source": [
        "# **Train the model**"
      ],
      "metadata": {
        "id": "KHWAIRe3XIfF"
      }
    },
    {
      "cell_type": "code",
      "source": [
        "model_with_dropout.fit(X_train, y_train, epochs=50, batch_size=32, validation_data=(X_val, y_val))"
      ],
      "metadata": {
        "colab": {
          "base_uri": "https://localhost:8080/"
        },
        "id": "7ozOnMFVXEhi",
        "outputId": "4c201611-32d3-49d7-d581-9f289862a954"
      },
      "execution_count": 26,
      "outputs": [
        {
          "output_type": "stream",
          "name": "stdout",
          "text": [
            "Epoch 1/50\n",
            "14/14 [==============================] - 3s 56ms/step - loss: 1.4320 - accuracy: 0.3435 - val_loss: 1.1673 - val_accuracy: 0.4800\n",
            "Epoch 2/50\n",
            "14/14 [==============================] - 0s 8ms/step - loss: 1.1177 - accuracy: 0.5200 - val_loss: 0.9995 - val_accuracy: 0.6933\n",
            "Epoch 3/50\n",
            "14/14 [==============================] - 0s 7ms/step - loss: 0.9684 - accuracy: 0.5976 - val_loss: 0.8479 - val_accuracy: 0.7200\n",
            "Epoch 4/50\n",
            "14/14 [==============================] - 0s 8ms/step - loss: 0.8141 - accuracy: 0.6635 - val_loss: 0.7414 - val_accuracy: 0.7067\n",
            "Epoch 5/50\n",
            "14/14 [==============================] - 0s 7ms/step - loss: 0.7406 - accuracy: 0.6824 - val_loss: 0.6896 - val_accuracy: 0.7333\n",
            "Epoch 6/50\n",
            "14/14 [==============================] - 0s 9ms/step - loss: 0.5917 - accuracy: 0.7718 - val_loss: 0.5829 - val_accuracy: 0.7600\n",
            "Epoch 7/50\n",
            "14/14 [==============================] - 0s 10ms/step - loss: 0.6042 - accuracy: 0.7576 - val_loss: 0.4810 - val_accuracy: 0.8267\n",
            "Epoch 8/50\n",
            "14/14 [==============================] - 0s 11ms/step - loss: 0.4902 - accuracy: 0.8024 - val_loss: 0.5397 - val_accuracy: 0.7733\n",
            "Epoch 9/50\n",
            "14/14 [==============================] - 0s 10ms/step - loss: 0.4940 - accuracy: 0.7906 - val_loss: 0.4936 - val_accuracy: 0.7733\n",
            "Epoch 10/50\n",
            "14/14 [==============================] - 0s 11ms/step - loss: 0.5945 - accuracy: 0.7718 - val_loss: 0.5121 - val_accuracy: 0.8133\n",
            "Epoch 11/50\n",
            "14/14 [==============================] - 0s 10ms/step - loss: 0.4053 - accuracy: 0.8729 - val_loss: 0.5139 - val_accuracy: 0.8000\n",
            "Epoch 12/50\n",
            "14/14 [==============================] - 0s 10ms/step - loss: 0.3656 - accuracy: 0.8612 - val_loss: 0.4153 - val_accuracy: 0.8267\n",
            "Epoch 13/50\n",
            "14/14 [==============================] - 0s 12ms/step - loss: 0.3305 - accuracy: 0.8612 - val_loss: 0.4742 - val_accuracy: 0.8533\n",
            "Epoch 14/50\n",
            "14/14 [==============================] - 0s 10ms/step - loss: 0.3235 - accuracy: 0.8729 - val_loss: 0.4563 - val_accuracy: 0.8400\n",
            "Epoch 15/50\n",
            "14/14 [==============================] - 0s 9ms/step - loss: 0.2892 - accuracy: 0.8941 - val_loss: 0.4364 - val_accuracy: 0.8000\n",
            "Epoch 16/50\n",
            "14/14 [==============================] - 0s 10ms/step - loss: 0.2606 - accuracy: 0.9035 - val_loss: 0.4680 - val_accuracy: 0.8533\n",
            "Epoch 17/50\n",
            "14/14 [==============================] - 0s 11ms/step - loss: 0.2060 - accuracy: 0.9176 - val_loss: 0.3573 - val_accuracy: 0.8267\n",
            "Epoch 18/50\n",
            "14/14 [==============================] - 0s 10ms/step - loss: 0.2166 - accuracy: 0.9247 - val_loss: 0.6453 - val_accuracy: 0.8000\n",
            "Epoch 19/50\n",
            "14/14 [==============================] - 0s 10ms/step - loss: 0.2578 - accuracy: 0.9106 - val_loss: 0.3631 - val_accuracy: 0.8667\n",
            "Epoch 20/50\n",
            "14/14 [==============================] - 0s 10ms/step - loss: 0.1548 - accuracy: 0.9341 - val_loss: 0.4635 - val_accuracy: 0.8533\n",
            "Epoch 21/50\n",
            "14/14 [==============================] - 0s 11ms/step - loss: 0.1498 - accuracy: 0.9482 - val_loss: 0.2991 - val_accuracy: 0.8667\n",
            "Epoch 22/50\n",
            "14/14 [==============================] - 0s 10ms/step - loss: 0.1175 - accuracy: 0.9553 - val_loss: 0.4237 - val_accuracy: 0.8400\n",
            "Epoch 23/50\n",
            "14/14 [==============================] - 0s 11ms/step - loss: 0.1074 - accuracy: 0.9647 - val_loss: 0.3618 - val_accuracy: 0.8400\n",
            "Epoch 24/50\n",
            "14/14 [==============================] - 0s 11ms/step - loss: 0.0661 - accuracy: 0.9835 - val_loss: 0.3739 - val_accuracy: 0.8267\n",
            "Epoch 25/50\n",
            "14/14 [==============================] - 0s 11ms/step - loss: 0.0515 - accuracy: 0.9835 - val_loss: 0.4476 - val_accuracy: 0.8267\n",
            "Epoch 26/50\n",
            "14/14 [==============================] - 0s 9ms/step - loss: 0.0632 - accuracy: 0.9765 - val_loss: 0.3663 - val_accuracy: 0.8400\n",
            "Epoch 27/50\n",
            "14/14 [==============================] - 0s 9ms/step - loss: 0.0646 - accuracy: 0.9765 - val_loss: 0.3646 - val_accuracy: 0.8400\n",
            "Epoch 28/50\n",
            "14/14 [==============================] - 0s 7ms/step - loss: 0.0511 - accuracy: 0.9835 - val_loss: 0.3619 - val_accuracy: 0.8400\n",
            "Epoch 29/50\n",
            "14/14 [==============================] - 0s 8ms/step - loss: 0.0723 - accuracy: 0.9788 - val_loss: 0.4692 - val_accuracy: 0.7867\n",
            "Epoch 30/50\n",
            "14/14 [==============================] - 0s 8ms/step - loss: 0.0982 - accuracy: 0.9624 - val_loss: 0.5656 - val_accuracy: 0.8267\n",
            "Epoch 31/50\n",
            "14/14 [==============================] - 0s 8ms/step - loss: 0.0895 - accuracy: 0.9694 - val_loss: 0.4217 - val_accuracy: 0.8400\n",
            "Epoch 32/50\n",
            "14/14 [==============================] - 0s 7ms/step - loss: 0.0690 - accuracy: 0.9835 - val_loss: 0.4245 - val_accuracy: 0.8267\n",
            "Epoch 33/50\n",
            "14/14 [==============================] - 0s 8ms/step - loss: 0.0517 - accuracy: 0.9812 - val_loss: 0.5049 - val_accuracy: 0.8133\n",
            "Epoch 34/50\n",
            "14/14 [==============================] - 0s 7ms/step - loss: 0.0361 - accuracy: 0.9859 - val_loss: 0.4925 - val_accuracy: 0.8267\n",
            "Epoch 35/50\n",
            "14/14 [==============================] - 0s 8ms/step - loss: 0.0248 - accuracy: 0.9929 - val_loss: 0.3603 - val_accuracy: 0.8800\n",
            "Epoch 36/50\n",
            "14/14 [==============================] - 0s 9ms/step - loss: 0.0203 - accuracy: 0.9929 - val_loss: 0.4116 - val_accuracy: 0.8533\n",
            "Epoch 37/50\n",
            "14/14 [==============================] - 0s 7ms/step - loss: 0.0291 - accuracy: 0.9859 - val_loss: 0.5712 - val_accuracy: 0.8267\n",
            "Epoch 38/50\n",
            "14/14 [==============================] - 0s 7ms/step - loss: 0.0499 - accuracy: 0.9788 - val_loss: 0.6185 - val_accuracy: 0.8000\n",
            "Epoch 39/50\n",
            "14/14 [==============================] - 0s 8ms/step - loss: 0.0451 - accuracy: 0.9859 - val_loss: 0.5647 - val_accuracy: 0.8400\n",
            "Epoch 40/50\n",
            "14/14 [==============================] - 0s 7ms/step - loss: 0.0358 - accuracy: 0.9906 - val_loss: 0.5674 - val_accuracy: 0.8267\n",
            "Epoch 41/50\n",
            "14/14 [==============================] - 0s 7ms/step - loss: 0.0402 - accuracy: 0.9835 - val_loss: 0.4647 - val_accuracy: 0.8000\n",
            "Epoch 42/50\n",
            "14/14 [==============================] - 0s 8ms/step - loss: 0.0333 - accuracy: 0.9859 - val_loss: 0.4436 - val_accuracy: 0.8133\n",
            "Epoch 43/50\n",
            "14/14 [==============================] - 0s 7ms/step - loss: 0.0323 - accuracy: 0.9882 - val_loss: 0.6364 - val_accuracy: 0.8133\n",
            "Epoch 44/50\n",
            "14/14 [==============================] - 0s 8ms/step - loss: 0.0216 - accuracy: 0.9906 - val_loss: 0.5199 - val_accuracy: 0.8267\n",
            "Epoch 45/50\n",
            "14/14 [==============================] - 0s 9ms/step - loss: 0.0200 - accuracy: 0.9882 - val_loss: 0.4956 - val_accuracy: 0.8667\n",
            "Epoch 46/50\n",
            "14/14 [==============================] - 0s 8ms/step - loss: 0.0249 - accuracy: 0.9882 - val_loss: 0.5953 - val_accuracy: 0.8267\n",
            "Epoch 47/50\n",
            "14/14 [==============================] - 0s 7ms/step - loss: 0.0279 - accuracy: 0.9929 - val_loss: 0.6081 - val_accuracy: 0.8267\n",
            "Epoch 48/50\n",
            "14/14 [==============================] - 0s 8ms/step - loss: 0.0240 - accuracy: 0.9882 - val_loss: 0.4842 - val_accuracy: 0.8400\n",
            "Epoch 49/50\n",
            "14/14 [==============================] - 0s 8ms/step - loss: 0.0202 - accuracy: 0.9859 - val_loss: 0.5087 - val_accuracy: 0.8533\n",
            "Epoch 50/50\n",
            "14/14 [==============================] - 0s 7ms/step - loss: 0.0195 - accuracy: 0.9882 - val_loss: 0.4981 - val_accuracy: 0.8400\n"
          ]
        },
        {
          "output_type": "execute_result",
          "data": {
            "text/plain": [
              "<keras.src.callbacks.History at 0x7f0ec0caa110>"
            ]
          },
          "metadata": {},
          "execution_count": 26
        }
      ]
    },
    {
      "cell_type": "markdown",
      "source": [
        "# **Evaluate the model**"
      ],
      "metadata": {
        "id": "zwA6mhzTXR8e"
      }
    },
    {
      "cell_type": "code",
      "source": [
        "test_loss, test_acc= model_with_dropout.evaluate(X_test, y_test)\n",
        "# Predict probabilities for each class\n",
        "y_probabilities = model_with_dropout.predict(X_test)\n",
        "\n",
        "# Convert probabilities to class predictions\n",
        "y_pred = np.argmax(y_probabilities, axis=1)"
      ],
      "metadata": {
        "colab": {
          "base_uri": "https://localhost:8080/"
        },
        "id": "oGGym5lsXNlj",
        "outputId": "c604082c-7576-4111-c302-553a7290dad0"
      },
      "execution_count": 35,
      "outputs": [
        {
          "output_type": "stream",
          "name": "stdout",
          "text": [
            "4/4 [==============================] - 0s 7ms/step - loss: 0.6759 - accuracy: 0.8730\n",
            "4/4 [==============================] - 0s 5ms/step\n"
          ]
        }
      ]
    },
    {
      "cell_type": "markdown",
      "source": [
        "# **Print the Accuracy**"
      ],
      "metadata": {
        "id": "AUSI13urXb45"
      }
    },
    {
      "cell_type": "code",
      "source": [
        "from sklearn.metrics import f1_score,precision_score, roc_curve, auc, confusion_matrix\n",
        "import matplotlib.pyplot as plt\n",
        "\n",
        "# Calculate F1 score\n",
        "f1 = f1_score(y_test, y_pred, average='weighted')\n",
        "print('F1 Score:', f1)\n",
        "# Calculate precision\n",
        "precision = precision_score(y_test, y_pred, average='weighted')\n",
        "print(\"Precision:\", precision)\n",
        "\n",
        "# Plot ROC curve for each class\n",
        "plt.figure(figsize=(8, 6))\n",
        "for i in range(num_classes):\n",
        "    if np.sum(y_test == i) > 0:  # Check if the class has positive samples\n",
        "        fpr, tpr, _ = roc_curve(y_test == i, y_probabilities[:, i])\n",
        "        roc_auc = auc(fpr, tpr)\n",
        "        plt.plot(fpr, tpr, label=f'Class {i} (AUC = {roc_auc:.2f})')\n",
        "\n",
        "plt.plot([0, 1], [0, 1], linestyle='--', color='gray')\n",
        "plt.xlabel('False Positive Rate')\n",
        "plt.ylabel('True Positive Rate')\n",
        "plt.title('ROC Curve')\n",
        "plt.legend()\n",
        "plt.grid(True)\n",
        "plt.show()\n",
        "\n",
        "# Generate confusion matrix\n",
        "conf_matrix = confusion_matrix(y_test, y_pred)\n",
        "print('Confusion Matrix:')\n",
        "print(conf_matrix)\n"
      ],
      "metadata": {
        "colab": {
          "base_uri": "https://localhost:8080/",
          "height": 685
        },
        "id": "N1bIt1yKZ0hJ",
        "outputId": "82a11187-cb1c-4ffd-c28d-bfd92dfb2204"
      },
      "execution_count": 42,
      "outputs": [
        {
          "output_type": "stream",
          "name": "stdout",
          "text": [
            "F1 Score: 0.8723985890652557\n",
            "Precision: 0.8730446806671852\n"
          ]
        },
        {
          "output_type": "display_data",
          "data": {
            "text/plain": [
              "<Figure size 800x600 with 1 Axes>"
            ],
            "image/png": "[encoded data removed]"
          },
          "metadata": {}
        },
        {
          "output_type": "stream",
          "name": "stdout",
          "text": [
            "Confusion Matrix:\n",
            "[[17  0  0  0]\n",
            " [ 1 26  2  2]\n",
            " [ 0  1 31  4]\n",
            " [ 1  2  3 36]]\n"
          ]
        }
      ]
    },
    {
      "cell_type": "code",
      "source": [
        "import matplotlib.pyplot as plt\n",
        "\n",
        "# Function to visualize features for a single sample\n",
        "def visualize_features(file_path, mfcc=True, chroma=True, mel=True):\n",
        "    # Load audio file\n",
        "    audio, sample_rate = librosa.load(file_path, res_type='kaiser_fast')\n",
        "\n",
        "    # Extract features from the entire audio\n",
        "    features = extract_features_from_audio(audio, sample_rate, mfcc=mfcc, chroma=chroma, mel=mel)\n",
        "\n",
        "    # Plot features\n",
        "    plt.figure(figsize=(10, 6))\n",
        "    if mfcc:\n",
        "        plt.subplot(3, 1, 1)\n",
        "        plt.title('MFCC')\n",
        "        plt.plot(features[:40])  # Assuming the first 40 elements correspond to MFCC features\n",
        "    if chroma:\n",
        "        plt.subplot(3, 1, 2)\n",
        "        plt.title('Chroma')\n",
        "        plt.plot(features[40:52])  # Assuming the next 12 elements correspond to Chroma features\n",
        "    if mel:\n",
        "        plt.subplot(3, 1, 3)\n",
        "        plt.title('Mel')\n",
        "        plt.plot(features[52:])  # Assuming the rest correspond to Mel features\n",
        "    plt.tight_layout()\n",
        "    plt.show()\n",
        "\n",
        "# Replace 'file_path' with the path to the audio file you want to visualize\n",
        "file_path = '/content/drive/MyDrive/cv_project/samples/Arcing (1).wav'\n",
        "visualize_features(file_path)\n"
      ],
      "metadata": {
        "colab": {
          "base_uri": "https://localhost:8080/",
          "height": 607
        },
        "id": "w7s3Fu2vNt06",
        "outputId": "5f3428ca-970d-443a-989d-90b83db4fd1a"
      },
      "execution_count": 38,
      "outputs": [
        {
          "output_type": "display_data",
          "data": {
            "text/plain": [
              "<Figure size 1000x600 with 3 Axes>"
            ],
            "image/png": "[encoded data removed]"
          },
          "metadata": {}
        }
      ]
    }
  ]
}